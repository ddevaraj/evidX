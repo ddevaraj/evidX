{
 "cells": [
  {
   "cell_type": "code",
   "execution_count": 32,
   "metadata": {
    "collapsed": true
   },
   "outputs": [],
   "source": [
    "from rdflib.plugins.sparql import prepareQuery\n",
    "import rdflib\n",
    "import os\n",
    "\n",
    "bioPaxDir = '/Users/Gully/Documents/Projects/2_active/corpora/intact2/oa/intact_evidence_fragment_corpus_07-25-17_10papers/temp'\n",
    "evidFrgDir = '/Users/Gully/Documents/Projects/2_active/corpora/intact2/oa/intact_evidence_fragment_corpus_07-25-17_10papers/fig_span_biocld'\n",
    "\n",
    "biopax_context = {\n",
    "    \"term\" : {\n",
    "      \"@id\" : \"http://www.biopax.org/release/biopax-level3.owl#term\"\n",
    "    },\n",
    "    \"xref\" : {\n",
    "      \"@id\" : \"http://www.biopax.org/release/biopax-level3.owl#xref\",\n",
    "      \"@type\" : \"@id\"\n",
    "    },\n",
    "    \"db\" : {\n",
    "      \"@id\" : \"http://www.biopax.org/release/biopax-level3.owl#db\"\n",
    "    },\n",
    "    \"id\" : {\n",
    "      \"@id\" : \"http://www.biopax.org/release/biopax-level3.owl#id\"\n",
    "    },\n",
    "    \"relationshipType\" : {\n",
    "      \"@id\" : \"http://www.biopax.org/release/biopax-level3.owl#relationshipType\",\n",
    "      \"@type\" : \"@id\"\n",
    "    },\n",
    "    \"dataSource\" : {\n",
    "      \"@id\" : \"http://www.biopax.org/release/biopax-level3.owl#dataSource\",\n",
    "      \"@type\" : \"@id\"\n",
    "    },\n",
    "    \"comment\" : {\n",
    "      \"@id\" : \"http://www.biopax.org/release/biopax-level3.owl#comment\"\n",
    "    },\n",
    "    \"name\" : {\n",
    "      \"@id\" : \"http://www.biopax.org/release/biopax-level3.owl#name\"\n",
    "    },\n",
    "    \"entityReference\" : {\n",
    "      \"@id\" : \"http://www.biopax.org/release/biopax-level3.owl#entityReference\",\n",
    "      \"@type\" : \"@id\"\n",
    "    },\n",
    "    \"displayName\" : {\n",
    "      \"@id\" : \"http://www.biopax.org/release/biopax-level3.owl#displayName\"\n",
    "    },\n",
    "    \"evidence\" : {\n",
    "      \"@id\" : \"http://www.biopax.org/release/biopax-level3.owl#evidence\",\n",
    "      \"@type\" : \"@id\"\n",
    "    },\n",
    "    \"sequence\" : {\n",
    "      \"@id\" : \"http://www.biopax.org/release/biopax-level3.owl#sequence\"\n",
    "    },\n",
    "    \"organism\" : {\n",
    "      \"@id\" : \"http://www.biopax.org/release/biopax-level3.owl#organism\",\n",
    "      \"@type\" : \"@id\"\n",
    "    },\n",
    "    \"standardName\" : {\n",
    "      \"@id\" : \"http://www.biopax.org/release/biopax-level3.owl#standardName\"\n",
    "    },\n",
    "    \"experimentalFormDescription\" : {\n",
    "      \"@id\" : \"http://www.biopax.org/release/biopax-level3.owl#experimentalFormDescription\",\n",
    "      \"@type\" : \"@id\"\n",
    "    },\n",
    "    \"experimentalFeature\" : {\n",
    "      \"@id\" : \"http://www.biopax.org/release/biopax-level3.owl#experimentalFeature\",\n",
    "      \"@type\" : \"@id\"\n",
    "    },\n",
    "    \"modificationType\" : {\n",
    "      \"@id\" : \"http://www.biopax.org/release/biopax-level3.owl#modificationType\",\n",
    "      \"@type\" : \"@id\"\n",
    "    },\n",
    "    \"featureLocationType\" : {\n",
    "      \"@id\" : \"http://www.biopax.org/release/biopax-level3.owl#featureLocationType\",\n",
    "      \"@type\" : \"@id\"\n",
    "    },\n",
    "    \"experimentalForm\" : {\n",
    "      \"@id\" : \"http://www.biopax.org/release/biopax-level3.owl#experimentalForm\",\n",
    "      \"@type\" : \"@id\"\n",
    "    },\n",
    "    \"imports\" : {\n",
    "      \"@id\" : \"http://www.w3.org/2002/07/owl#imports\",\n",
    "      \"@type\" : \"@id\"\n",
    "    },\n",
    "    \"evidenceCode\" : {\n",
    "      \"@id\" : \"http://www.biopax.org/release/biopax-level3.owl#evidenceCode\",\n",
    "      \"@type\" : \"@id\"\n",
    "    },\n",
    "    \"component\" : {\n",
    "      \"@id\" : \"http://www.biopax.org/release/biopax-level3.owl#component\",\n",
    "      \"@type\" : \"@id\"\n",
    "    },\n",
    "    \"rdf\" : \"http://www.w3.org/1999/02/22-rdf-syntax-ns#\",\n",
    "    \"owl\" : \"http://www.w3.org/2002/07/owl#\",\n",
    "    \"xsd\" : \"http://www.w3.org/2001/XMLSchema#\",\n",
    "    \"bp\" : \"http://www.biopax.org/release/biopax-level3.owl#\"\n",
    "}\n",
    "\n",
    "\n"
   ]
  },
  {
   "cell_type": "code",
   "execution_count": 21,
   "metadata": {},
   "outputs": [
    {
     "name": "stdout",
     "output_type": "stream",
     "text": [
      "10087260_biopax.ttl\n",
      "10087263_biopax.ttl\n"
     ]
    },
    {
     "name": "stderr",
     "output_type": "stream",
     "text": [
      "http://www.ncbi.nlm.nih.gov/pubmed/10087263#f3|f4 does not look like a valid URI, trying to serialize this will break.\n"
     ]
    },
    {
     "name": "stdout",
     "output_type": "stream",
     "text": [
      "10087265_biopax.ttl\n"
     ]
    },
    {
     "name": "stderr",
     "output_type": "stream",
     "text": [
      "http://www.ncbi.nlm.nih.gov/pubmed/10087263#f3|f4 does not look like a valid URI, trying to serialize this will break.\n"
     ]
    },
    {
     "name": "stdout",
     "output_type": "stream",
     "text": [
      "10225955_biopax.ttl\n"
     ]
    },
    {
     "name": "stderr",
     "output_type": "stream",
     "text": [
      "http://www.ncbi.nlm.nih.gov/pubmed/10087263#f3|f4 does not look like a valid URI, trying to serialize this will break.\n",
      "http://www.ncbi.nlm.nih.gov/pubmed/10087263#f3|f4 does not look like a valid URI, trying to serialize this will break.\n"
     ]
    },
    {
     "name": "stdout",
     "output_type": "stream",
     "text": [
      "10366599_biopax.ttl\n"
     ]
    },
    {
     "name": "stderr",
     "output_type": "stream",
     "text": [
      "http://www.ncbi.nlm.nih.gov/pubmed/10087263#f3|f4 does not look like a valid URI, trying to serialize this will break.\n",
      "http://www.ncbi.nlm.nih.gov/pubmed/10087263#f3|f4 does not look like a valid URI, trying to serialize this will break.\n"
     ]
    },
    {
     "name": "stdout",
     "output_type": "stream",
     "text": [
      "10385523_biopax.ttl\n"
     ]
    },
    {
     "name": "stderr",
     "output_type": "stream",
     "text": [
      "http://www.ncbi.nlm.nih.gov/pubmed/10087263#f3|f4 does not look like a valid URI, trying to serialize this will break.\n",
      "http://www.ncbi.nlm.nih.gov/pubmed/10087263#f3|f4 does not look like a valid URI, trying to serialize this will break.\n",
      "http://www.ncbi.nlm.nih.gov/pubmed/10385526#no figure does not look like a valid URI, trying to serialize this will break.\n"
     ]
    },
    {
     "name": "stdout",
     "output_type": "stream",
     "text": [
      "10385526_biopax.ttl\n"
     ]
    },
    {
     "name": "stderr",
     "output_type": "stream",
     "text": [
      "http://www.ncbi.nlm.nih.gov/pubmed/10087263#f3|f4 does not look like a valid URI, trying to serialize this will break.\n",
      "http://www.ncbi.nlm.nih.gov/pubmed/10385526#no figure does not look like a valid URI, trying to serialize this will break.\n",
      "http://www.ncbi.nlm.nih.gov/pubmed/10087263#f3|f4 does not look like a valid URI, trying to serialize this will break.\n",
      "http://www.ncbi.nlm.nih.gov/pubmed/10385526#no figure does not look like a valid URI, trying to serialize this will break.\n",
      "http://www.ncbi.nlm.nih.gov/pubmed/10402465#no figure does not look like a valid URI, trying to serialize this will break.\n"
     ]
    },
    {
     "name": "stdout",
     "output_type": "stream",
     "text": [
      "10402465_biopax.ttl\n"
     ]
    },
    {
     "name": "stderr",
     "output_type": "stream",
     "text": [
      "http://www.ncbi.nlm.nih.gov/pubmed/10087263#f3|f4 does not look like a valid URI, trying to serialize this will break.\n",
      "http://www.ncbi.nlm.nih.gov/pubmed/10402465#no figure does not look like a valid URI, trying to serialize this will break.\n",
      "http://www.ncbi.nlm.nih.gov/pubmed/10385526#no figure does not look like a valid URI, trying to serialize this will break.\n",
      "http://www.ncbi.nlm.nih.gov/pubmed/10087263#f3|f4 does not look like a valid URI, trying to serialize this will break.\n"
     ]
    }
   ],
   "source": [
    "#\n",
    "# Want to convert ttl files to json-ld with an appropriate context file. \n",
    "#\n",
    "#register('json-ld', Parser, 'rdflib_jsonld.parser', 'JsonLDParser')\n",
    "\n",
    "for root, dirs, files in os.walk(bioPaxDir):\n",
    "    for inFile in files:\n",
    "        if os.path.isfile(root + '/' + inFile) and inFile[-4:] == '.ttl':\n",
    "            l = len('_biopax.xml')\n",
    "            pmid = inFile[:-l]\n",
    "            outFile = root + '/' + pmid + '_biopax.json'\n",
    "            \n",
    "            #with open(inFile) as f:\n",
    "            #    context_str = f.read()\n",
    "            #context_json = json.loads(context_str)\n",
    "            #dummy_object = '{' + context_str + '}'\n",
    "            #g = rdflib.Graph().parse(data=dummy_object, format='json-ld')\n",
    "\n",
    "            print(inFile)\n",
    "            g = rdflib.Graph().parse(root + '/' + inFile, format=\"ttl\")\n",
    "            \n",
    "            out = open(outFile, 'wb')\n",
    "            out.write(g.serialize(format='json-ld', context=biopax_context, indent=4))\n",
    "            out.close()"
   ]
  },
  {
   "cell_type": "code",
   "execution_count": 37,
   "metadata": {},
   "outputs": [],
   "source": [
    "bioc_context = {\n",
    "    \"Document\" : {\n",
    "      \"@id\" : \"http://purl.org/bioc/Document\",\n",
    "    },\n",
    "    \"Annotation\" : {\n",
    "      \"@id\" : \"http://purl.org/bioc/Annotation\",\n",
    "    },\n",
    "    \"Passage\" : {\n",
    "      \"@id\" : \"http://purl.org/bioc/Passage\",\n",
    "    },\n",
    "    \"Location\" : {\n",
    "      \"@id\" : \"http://purl.org/bioc/Location\",\n",
    "    },\n",
    "    \"passages\" : {\n",
    "      \"@id\" : \"http://purl.org/bioc/passages\"\n",
    "    },\n",
    "    \"annotations\" : {\n",
    "      \"@id\" : \"http://purl.org/bioc/annotations\"\n",
    "    },\n",
    "    \"locations\" : {\n",
    "      \"@id\" : \"http://purl.org/bioc/locations\"\n",
    "    },\n",
    "    \"text\" : {\n",
    "      \"@id\" : \"http://purl.org/bioc/text\",\n",
    "    },\n",
    "    \"offset\" : {\n",
    "      \"@id\" : \"http://purl.org/bioc/offset\",\n",
    "    },\n",
    "    \"length\" : {\n",
    "      \"@id\" : \"http://purl.org/bioc/length\"\n",
    "    },\n",
    "    \"TextChunk\" : {\n",
    "      \"@id\" : \"http://purl.org/spar/doco/TextChunk\"\n",
    "    },\n",
    "    \"FigureLabel\" : {\n",
    "      \"@id\" : \"http://purl.org/spar/doco/FigureLabel\"\n",
    "    },\n",
    "    \"citesAsEvidence\" : {\n",
    "      \"@id\" : \"http://purl.org/spar/cito/citesAsEvidence\"\n",
    "    },\n",
    "    \"describes\" : {\n",
    "      \"@id\" : \"http://purl.org/spar/cito/describes\",\n",
    "      \"@type\" : \"@id\"\n",
    "    },\n",
    "    \"label\" : {\n",
    "      \"@id\" : \"http://www.w3.org/2000/01/rdf-schema#label\",\n",
    "    },\n",
    "    \"rdf\" : \"http://www.w3.org/1999/02/22-rdf-syntax-ns#\",\n",
    "    \"owl\" : \"http://www.w3.org/2002/07/owl#\",\n",
    "    \"xsd\" : \"http://www.w3.org/2001/XMLSchema#\",\n",
    "    \"bp\" : \"http://www.biopax.org/release/biopax-level3.owl#\"\n",
    "}\n",
    "\n"
   ]
  },
  {
   "cell_type": "code",
   "execution_count": 39,
   "metadata": {},
   "outputs": [
    {
     "name": "stdout",
     "output_type": "stream",
     "text": [
      "10087260_bioc.ttl\n",
      "10087263_bioc.ttl\n",
      "10087265_bioc.ttl\n",
      "10209036_bioc.ttl\n",
      "10225955_bioc.ttl\n",
      "10366597_bioc.ttl\n",
      "10366599_bioc.ttl\n",
      "10385523_bioc.ttl\n",
      "10385526_bioc.ttl\n",
      "10402465_bioc.ttl\n"
     ]
    }
   ],
   "source": [
    "for root, dirs, files in os.walk(evidFrgDir):\n",
    "    for inFile in files:\n",
    "        if os.path.isfile(root + '/' + inFile) and inFile[-4:] == '.ttl':\n",
    "            l = len('_bioc.ttl')\n",
    "            pmid = inFile[:-l]\n",
    "            outFile = root + '/' + pmid + '_bioc.json'\n",
    "            \n",
    "            #with open(inFile) as f:\n",
    "            #    context_str = f.read()\n",
    "            #context_json = json.loads(context_str)\n",
    "            #dummy_object = '{' + context_str + '}'\n",
    "            #g = rdflib.Graph().parse(data=dummy_object, format='json-ld')\n",
    "\n",
    "            print(inFile)\n",
    "            g = rdflib.Graph().parse(root + '/' + inFile, format=\"ttl\")\n",
    "            \n",
    "            out = open(outFile, 'wb')\n",
    "            out.write(g.serialize(format='json-ld', context=bioc_context, indent=4))\n",
    "            out.close()"
   ]
  },
  {
   "cell_type": "code",
   "execution_count": null,
   "metadata": {
    "collapsed": true
   },
   "outputs": [],
   "source": []
  },
  {
   "cell_type": "code",
   "execution_count": null,
   "metadata": {
    "collapsed": true
   },
   "outputs": [],
   "source": []
  }
 ],
 "metadata": {
  "kernelspec": {
   "display_name": "Python [default]",
   "language": "python",
   "name": "python3"
  },
  "language_info": {
   "codemirror_mode": {
    "name": "ipython",
    "version": 3
   },
   "file_extension": ".py",
   "mimetype": "text/x-python",
   "name": "python",
   "nbconvert_exporter": "python",
   "pygments_lexer": "ipython3",
   "version": "3.5.3"
  }
 },
 "nbformat": 4,
 "nbformat_minor": 1
}
